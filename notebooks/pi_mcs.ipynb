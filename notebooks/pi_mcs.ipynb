{
 "cells": [
  {
   "cell_type": "code",
   "metadata": {
    "cell_id": "00000-c7b6e60d-fcf0-43ae-a2b8-89654edb784c",
    "deepnote_to_be_reexecuted": false,
    "source_hash": "eba39436",
    "execution_start": 1634489860986,
    "execution_millis": 1430,
    "deepnote_cell_type": "code"
   },
   "source": "import numpy as np\nimport matplotlib.pyplot as plt",
   "execution_count": 1,
   "outputs": []
  },
  {
   "cell_type": "markdown",
   "source": "## Monte Carlo Simulation for $\\pi$ estimation\n\nThe area of a circle can be calculated as $\\pi*r^2$. While the area of a square is $l^2$. \n$$\n\\begin{align}\nA_{circle} =& \\pi*r^2\\\\\nA_{square} =& l^2\n\\end{align}\n$$\nWhen we set the radius of the circle and 1/2*length of the square to be unite length, so the circle is intersect with the square. We can use the area ratio to estimate the mathematical constant $\\pi$.\n$$\n\\begin{align}\nr = 1/2*l = 1 \\\\\nA_{circle}/A_{square} =& \\pi*r^2/l^2 \\\\\n=& \\pi*r^2/4*r^2 \\\\\n=& \\pi/4\\\\\n\\pi = 4*A_{circle}/A_{square}\n\\end{align}\n$$\n",
   "metadata": {
    "cell_id": "00001-6fc347d5-6341-445e-b5f6-53fb9135e7de",
    "deepnote_cell_type": "markdown"
   }
  },
  {
   "cell_type": "code",
   "metadata": {
    "cell_id": "00002-5366db14-f213-41dc-8069-0ba6aad4c878",
    "deepnote_to_be_reexecuted": false,
    "source_hash": "c7aaa964",
    "execution_start": 1634489864621,
    "execution_millis": 23591,
    "deepnote_cell_type": "code"
   },
   "source": "xi = np.linspace(0,1,100)\nyi = np.sqrt(1-xi**2)\n\n\nplt.plot(xi,yi,'r')\nplt.axis('equal')\n\ntrials = 10_000_000\n\npts = np.random.uniform(0, 1, size=(trials, 2))\nplt.scatter(pts[:, 0], pts[:, 1])\nplt.title(f'samples = {pts.shape[0]}')\nplt.show()",
   "execution_count": 2,
   "outputs": [
    {
     "data": {
      "text/plain": "<Figure size 432x288 with 1 Axes>",
      "image/png": "[encoded data removed]"
     },
     "metadata": {
      "needs_background": "light",
      "image/png": {
       "width": 372,
       "height": 264
      }
     },
     "output_type": "display_data"
    }
   ]
  },
  {
   "cell_type": "code",
   "metadata": {
    "cell_id": "00003-4771d81e-5fa1-41e4-826d-7201d5b5fba2",
    "deepnote_to_be_reexecuted": false,
    "source_hash": "e08e20c6",
    "execution_start": 1634489888284,
    "execution_millis": 22527,
    "deepnote_cell_type": "code"
   },
   "source": "c = 0\nfor i in pts:\n    # print(i)\n    if i[0] ** 2 + i[1] ** 2 <= 1:\n        c = c + 1\npi = c * 4 / pts.shape[0]\nprint(f\"{pi=}\")",
   "execution_count": 3,
   "outputs": [
    {
     "name": "stdout",
     "text": "pi=3.1422344\n",
     "output_type": "stream"
    }
   ]
  },
  {
   "cell_type": "markdown",
   "source": "## A improved version with list comprehension",
   "metadata": {
    "cell_id": "00004-4930f589-a294-46cf-aa4e-8eee5cb5a590",
    "deepnote_cell_type": "markdown"
   }
  },
  {
   "cell_type": "code",
   "metadata": {
    "cell_id": "00005-ac3d677d-d1ad-4514-b39d-b251211cff4b",
    "deepnote_to_be_reexecuted": false,
    "source_hash": "4ad05b9b",
    "execution_start": 1634489921930,
    "execution_millis": 25905,
    "deepnote_cell_type": "code"
   },
   "source": "pts_c = np.asarray([i for i in pts if i[0]**2 +i[1]**2<=1])\npi_est = 4*pts_c.shape[0]/pts.shape[0]\nprint(f'{pi_est=}')\n# pts_c.shape",
   "execution_count": 4,
   "outputs": [
    {
     "name": "stdout",
     "text": "pi_est=3.1422344\n",
     "output_type": "stream"
    }
   ]
  },
  {
   "cell_type": "code",
   "metadata": {
    "cell_id": "00006-0c569ca2-7520-4e11-93f3-167affaa9528",
    "deepnote_cell_type": "code"
   },
   "source": "plt.scatter(*pts_c.T)\nplt.axis('equal')\nplt.show()",
   "outputs": [
    {
     "data": {
      "image/png": "[encoded data removed]",
      "text/plain": "<Figure size 432x288 with 1 Axes>"
     },
     "metadata": {
      "needs_background": "light",
      "image/png": {
       "width": 372,
       "height": 248
      }
     },
     "output_type": "display_data"
    }
   ],
   "execution_count": null
  },
  {
   "cell_type": "markdown",
   "source": "## A more 'pythonic' way with numpy\n",
   "metadata": {
    "cell_id": "00007-a44ba25c-1f0f-47d3-a86b-94157ac64d45",
    "deepnote_cell_type": "markdown"
   }
  },
  {
   "cell_type": "code",
   "metadata": {
    "cell_id": "00008-82121024-890f-441c-a058-e565b920784a",
    "deepnote_to_be_reexecuted": false,
    "source_hash": "4f476349",
    "execution_start": 1634489989692,
    "execution_millis": 437,
    "deepnote_cell_type": "code"
   },
   "source": "pts_c = pts[pts[:,0]**2+pts[:,1]**2<=1]\n# pts_c.shape\npi_est = 4*pts_c.shape[0]/pts.shape[0]\nprint(f'{pi_est=}')",
   "execution_count": 5,
   "outputs": [
    {
     "name": "stdout",
     "text": "pi_est=3.1422344\n",
     "output_type": "stream"
    }
   ]
  },
  {
   "cell_type": "code",
   "metadata": {
    "cell_id": "00009-142127e7-6b20-458a-b3aa-8bc88470ce9e",
    "deepnote_cell_type": "code"
   },
   "source": "",
   "execution_count": null,
   "outputs": []
  },
  {
   "cell_type": "markdown",
   "source": "<a style='text-decoration:none;line-height:16px;display:flex;color:#5B5B62;padding:10px;justify-content:end;' href='https://deepnote.com?utm_source=created-in-deepnote-cell&projectId=ac33b996-3588-430c-8ec8-704827b3e7d3' target=\"_blank\">\n<img alt='Created in deepnote.com' style='display:inline;max-height:16px;margin:0px;margin-right:7.5px;' src='data:image/svg+xml;base64,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' > </img>\nCreated in <span style='font-weight:600;margin-left:4px;'>Deepnote</span></a>",
   "metadata": {
    "tags": [],
    "created_in_deepnote_cell": true,
    "deepnote_cell_type": "markdown"
   }
  }
 ],
 "nbformat": 4,
 "nbformat_minor": 2,
 "metadata": {
  "interpreter": {
   "hash": "de20a4e4de0f10250a4c8611bcb7c377194e774a143b53b89a7e685c416facb7"
  },
  "kernelspec": {
   "display_name": "Python 3.8.10 64-bit ('env': venv)",
   "name": "python3"
  },
  "language_info": {
   "codemirror_mode": {
    "name": "ipython",
    "version": 3
   },
   "file_extension": ".py",
   "mimetype": "text/x-python",
   "name": "python",
   "nbconvert_exporter": "python",
   "pygments_lexer": "ipython3",
   "version": "3.8.10"
  },
  "orig_nbformat": 4,
  "deepnote_notebook_id": "919aeca3-8298-4384-95b5-aca31ecef2b4",
  "deepnote": {},
  "deepnote_execution_queue": []
 }
}